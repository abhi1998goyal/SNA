{
 "cells": [
  {
   "cell_type": "code",
   "execution_count": 8,
   "metadata": {},
   "outputs": [
    {
     "name": "stdout",
     "output_type": "stream",
     "text": [
      "Number of nodes: 1266\n",
      "Number of edges: 6451\n"
     ]
    }
   ],
   "source": [
    "import networkx as nx\n",
    "from scipy.io import mmread\n",
    "\n",
    "# Read the .mtx file\n",
    "matrix = mmread('/home/SNA/Ass_1/Dataset/ia-fb-messages/ia-fb-messages.mtx')\n",
    "\n",
    "# Create an empty NetworkX graph\n",
    "G = nx.Graph()\n",
    "\n",
    "# Iterate through the matrix and add edges to the graph\n",
    "# We need to check if the matrix is symmetric\n",
    "for i, j, _ in zip(matrix.row, matrix.col, matrix.data):\n",
    "    G.add_edge(i, j)\n",
    "\n",
    "# Print some information about the graph\n",
    "print(f\"Number of nodes: {G.number_of_nodes()}\")\n",
    "print(f\"Number of edges: {G.number_of_edges()}\")\n"
   ]
  },
  {
   "cell_type": "code",
   "execution_count": 9,
   "metadata": {},
   "outputs": [],
   "source": [
    "nx.write_graphml(G, '/home/SNA/Ass_1/Dataset/ia-fb-messages/ia-fb-messages.graphml')"
   ]
  }
 ],
 "metadata": {
  "kernelspec": {
   "display_name": "sna",
   "language": "python",
   "name": "python3"
  },
  "language_info": {
   "codemirror_mode": {
    "name": "ipython",
    "version": 3
   },
   "file_extension": ".py",
   "mimetype": "text/x-python",
   "name": "python",
   "nbconvert_exporter": "python",
   "pygments_lexer": "ipython3",
   "version": "undefined.undefined.undefined"
  }
 },
 "nbformat": 4,
 "nbformat_minor": 2
}
